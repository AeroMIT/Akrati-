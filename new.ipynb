{
 "cells": [
  {
   "cell_type": "code",
   "execution_count": 1,
   "id": "4b998673-6cc2-4cd7-a151-c34c466929bc",
   "metadata": {},
   "outputs": [
    {
     "name": "stdout",
     "output_type": "stream",
     "text": [
      "hello world\n"
     ]
    }
   ],
   "source": [
    "print(\"hello world\")"
   ]
  },
  {
   "cell_type": "code",
   "execution_count": 1,
   "id": "294193ba-a702-4b2b-b91f-c7819f8e483f",
   "metadata": {},
   "outputs": [
    {
     "name": "stdout",
     "output_type": "stream",
     "text": [
      "sum 14\n"
     ]
    }
   ],
   "source": [
    "a = 8\n",
    "b = 6\n",
    "print(\"sum\", a+b)\n"
   ]
  },
  {
   "cell_type": "code",
   "execution_count": 3,
   "id": "9b1de44d-38d9-4b3a-927a-4fba383a92bb",
   "metadata": {},
   "outputs": [
    {
     "name": "stdout",
     "output_type": "stream",
     "text": [
      "<class 'str'>\n",
      "<class 'int'>\n",
      "<class 'float'>\n"
     ]
    }
   ],
   "source": [
    "a = \"name\"\n",
    "b = 18\n",
    "c = 6.7\n",
    "print(type(a))\n",
    "print(type(b))\n",
    "print(type(c))\n"
   ]
  },
  {
   "cell_type": "code",
   "execution_count": 2,
   "id": "92c6f9a0-a8f2-4854-accf-6c6a26bb98af",
   "metadata": {},
   "outputs": [
    {
     "name": "stdout",
     "output_type": "stream",
     "text": [
      "even\n"
     ]
    }
   ],
   "source": [
    "a = 6\n",
    "if a%2==0:\n",
    "    print(\"even\")\n",
    "else:\n",
    "    print(\"odd\")\n"
   ]
  },
  {
   "cell_type": "code",
   "execution_count": 2,
   "id": "33ea52e1-f286-4124-8e33-bdd94d0f9da0",
   "metadata": {},
   "outputs": [
    {
     "name": "stdin",
     "output_type": "stream",
     "text": [
      "Enter your name akrati\n"
     ]
    },
    {
     "name": "stdout",
     "output_type": "stream",
     "text": [
      "Hello akrati\n"
     ]
    }
   ],
   "source": [
    "name = input(\"Enter your name\")\n",
    "print(\"Hello\", name)"
   ]
  },
  {
   "cell_type": "code",
   "execution_count": 3,
   "id": "235abb51-bdf0-4159-b6ec-2251ba788501",
   "metadata": {},
   "outputs": [
    {
     "name": "stdin",
     "output_type": "stream",
     "text": [
      "Enter Hours: 40\n",
      "enter rate:  4\n"
     ]
    },
    {
     "name": "stdout",
     "output_type": "stream",
     "text": [
      "Pay: 160.0\n"
     ]
    }
   ],
   "source": [
    "hours = int(input(\"Enter Hours:\"))\n",
    "rate = float(input(\"enter rate: \"))\n",
    "pay = hours*rate\n",
    "print(\"Pay:\",pay)"
   ]
  },
  {
   "cell_type": "code",
   "execution_count": 4,
   "id": "f0dd729a-435c-45e5-938f-b7bf3671dc65",
   "metadata": {},
   "outputs": [
    {
     "name": "stdin",
     "output_type": "stream",
     "text": [
      "Enter Hours: 45\n",
      "enter rate: 10.5\n"
     ]
    },
    {
     "name": "stdout",
     "output_type": "stream",
     "text": [
      "498.75\n"
     ]
    }
   ],
   "source": [
    "hrs = input(\"Enter Hours:\")\n",
    "h = float(hrs)\n",
    "rate = input(\"enter rate:\")\n",
    "r = float(rate)\n",
    "if h<=40:\n",
    "    pay = h*r\n",
    "    print(pay)\n",
    "else:\n",
    "    pay = (40*r) + (1.5*(h-40)*r)\n",
    "    print(pay)"
   ]
  },
  {
   "cell_type": "code",
   "execution_count": 5,
   "id": "6ac4be55-9643-4113-b95e-92bac98a07ad",
   "metadata": {},
   "outputs": [
    {
     "name": "stdin",
     "output_type": "stream",
     "text": [
      "Enter Score:  0.85\n"
     ]
    },
    {
     "name": "stdout",
     "output_type": "stream",
     "text": [
      "B\n"
     ]
    }
   ],
   "source": [
    "score = float(input(\"Enter Score: \"))\n",
    "if score>=0.9:\n",
    "    print(\"A\")\n",
    "elif 0.9>score>=0.8:\n",
    "    print(\"B\")\n",
    "elif 0.8>score>=0.7:\n",
    "    print(\"C\")\n",
    "elif 0.7>score>=0.6:\n",
    "   print(\"D\")\n",
    "elif score<0.6:\n",
    "    print(\"F\")\n",
    "else:\n",
    "    print(\"error\")\n",
    "    "
   ]
  },
  {
   "cell_type": "code",
   "execution_count": 6,
   "id": "cda3e494-acf4-49ff-b2e5-c531e218217f",
   "metadata": {},
   "outputs": [
    {
     "name": "stdout",
     "output_type": "stream",
     "text": [
      "7\n",
      "10\n",
      "10\n"
     ]
    },
    {
     "data": {
      "text/plain": [
       "10"
      ]
     },
     "execution_count": 6,
     "metadata": {},
     "output_type": "execute_result"
    }
   ],
   "source": [
    "def calc_sum(a,b):\n",
    "    sum = a+b\n",
    "    print(sum)\n",
    "    return sum\n",
    "\n",
    "calc_sum(3,4)\n",
    "calc_sum(3,7)\n",
    "calc_sum(6,4)"
   ]
  },
  {
   "cell_type": "code",
   "execution_count": 9,
   "id": "398ad195-0089-44db-84fe-fd6a28721caf",
   "metadata": {},
   "outputs": [
    {
     "name": "stdout",
     "output_type": "stream",
     "text": [
      "hello\n",
      "7\n"
     ]
    }
   ],
   "source": [
    "x = 5\n",
    "print(\"hello\")\n",
    "\n",
    "def name():\n",
    "    print(\"how are you\")\n",
    "    print(\"i am fine\")\n",
    "\n",
    "print(x+2)\n",
    " "
   ]
  },
  {
   "cell_type": "code",
   "execution_count": 7,
   "id": "ec123591-f8f0-410e-b1ef-3f6215e83ce1",
   "metadata": {},
   "outputs": [
    {
     "name": "stdout",
     "output_type": "stream",
     "text": [
      "hello\n"
     ]
    }
   ],
   "source": [
    "\t\n",
    "x = 5\n",
    "print(\"hello\")\n",
    "\n",
    "def name():\n",
    "    print(\"how are you\")\n",
    "    print(\"i am fine\")\n"
   ]
  },
  {
   "cell_type": "code",
   "execution_count": 8,
   "id": "32c67b23-7f68-4af3-a5dd-aeb5a53f7a3b",
   "metadata": {},
   "outputs": [
    {
     "name": "stdout",
     "output_type": "stream",
     "text": [
      "hola\n",
      "hello\n"
     ]
    }
   ],
   "source": [
    "\n",
    "def greet(lang):\n",
    "    if lang ==\"es\":\n",
    "        print(\"hola\")\n",
    "    elif lang ==\"fr\":\n",
    "        print(\"bonjure\")\n",
    "    else:\n",
    "        print(\"hello\")\n",
    "        \n",
    "greet(\"es\")\n",
    "greet(\"hii\")\n"
   ]
  },
  {
   "cell_type": "code",
   "execution_count": 9,
   "id": "0fac15b8-8f41-436b-b2b3-9ac757c646d1",
   "metadata": {},
   "outputs": [
    {
     "name": "stdin",
     "output_type": "stream",
     "text": [
      "Enter Hours: 45\n",
      "Enter Hours: 10.5\n"
     ]
    },
    {
     "name": "stdout",
     "output_type": "stream",
     "text": [
      "Pay 498.75\n"
     ]
    }
   ],
   "source": [
    "def computepay(h, r):\n",
    "     if h<=40:\n",
    "        pay = h*r\n",
    "        #print(pay)\n",
    "     else:\n",
    "        pay = (40*r) + (1.5*(h-40)*r)\n",
    "        #print(pay)\n",
    "     return pay\n",
    "\n",
    "hrs = float(input(\"Enter Hours:\"))\n",
    "r = float(input(\"Enter Hours:\"))\n",
    "p = computepay(hrs, r)\n",
    "print(\"Pay\", p)\n"
   ]
  },
  {
   "cell_type": "code",
   "execution_count": 10,
   "id": "aa1888ca-f225-44b7-b895-147111a1a17c",
   "metadata": {},
   "outputs": [
    {
     "name": "stdout",
     "output_type": "stream",
     "text": [
      "1\n",
      "3\n",
      "5\n",
      "7\n",
      "8\n",
      "9\n"
     ]
    }
   ],
   "source": [
    "list = [1,3,5,7,8,9]\n",
    "for i in list:\n",
    "    print(i)\n"
   ]
  },
  {
   "cell_type": "code",
   "execution_count": 11,
   "id": "18b70765-256b-406c-8950-c98b7283f0cd",
   "metadata": {},
   "outputs": [
    {
     "name": "stdout",
     "output_type": "stream",
     "text": [
      "before -1\n",
      "9 9\n",
      "41 41\n",
      "41 12\n",
      "41 3\n",
      "74 74\n",
      "74 15\n",
      "after 74\n"
     ]
    }
   ],
   "source": [
    "largest_now = -1\n",
    "print(\"before\", largest_now)\n",
    "for the_num in [9,41,12,3,74,15]:\n",
    "    if the_num > largest_now:\n",
    "        largest_now = the_num\n",
    "    print(largest_now, the_num)\n",
    "    \n",
    "print(\"after\", largest_now)\n"
   ]
  },
  {
   "cell_type": "code",
   "execution_count": 12,
   "id": "49d3d9a5-5f17-4cfe-b779-a51697424176",
   "metadata": {},
   "outputs": [
    {
     "name": "stdout",
     "output_type": "stream",
     "text": [
      "False 9\n",
      "False 41\n",
      "False 12\n",
      "True 3\n",
      "False 74\n",
      "False 15\n"
     ]
    }
   ],
   "source": [
    "found = False \n",
    "for the_num in [9,41,12,3,74,15]:\n",
    "    if the_num == 3:\n",
    "        found = True\n",
    "    else:\n",
    "        found = False\n",
    "    print(found, the_num)\n"
   ]
  },
  {
   "cell_type": "code",
   "execution_count": 13,
   "id": "67374661-3ac5-432c-ad7f-2472713af8d3",
   "metadata": {},
   "outputs": [
    {
     "name": "stdout",
     "output_type": "stream",
     "text": [
      "1 1\n",
      "1 2\n",
      "1 6\n",
      "1 9\n",
      "1 3\n",
      "-1 -1\n"
     ]
    }
   ],
   "source": [
    "smallest = None #flag value\n",
    "for i in [1,2,6,9,3,-1]:\n",
    "    if smallest is None:\n",
    "        smallest = i\n",
    "    elif i<smallest:\n",
    "        smallest = i\n",
    "    print(smallest,i)\n"
   ]
  },
  {
   "cell_type": "code",
   "execution_count": 14,
   "id": "e477931a-b531-4f13-b04b-d812e10f4a89",
   "metadata": {},
   "outputs": [
    {
     "name": "stdout",
     "output_type": "stream",
     "text": [
      "5\n"
     ]
    }
   ],
   "source": [
    "fruit = \"apple\"\n",
    "print(len(fruit))\n"
   ]
  },
  {
   "cell_type": "code",
   "execution_count": 15,
   "id": "2f1a252a-4919-46c6-a71a-822cc525871d",
   "metadata": {},
   "outputs": [
    {
     "name": "stdout",
     "output_type": "stream",
     "text": [
      "0 a\n",
      "1 p\n",
      "2 p\n",
      "3 l\n",
      "4 e\n"
     ]
    }
   ],
   "source": [
    "fruit = \"apple\"\n",
    "index = 0\n",
    "while index < len(fruit):\n",
    "    letter = fruit[index]\n",
    "    print(index,letter)\n",
    "    index = index + 1\n"
   ]
  },
  {
   "cell_type": "code",
   "execution_count": 16,
   "id": "28b010f0-8c5e-421c-b6f1-9b5e3711abf0",
   "metadata": {},
   "outputs": [
    {
     "name": "stdout",
     "output_type": "stream",
     "text": [
      "a\n",
      "p\n",
      "p\n",
      "l\n",
      "e\n"
     ]
    }
   ],
   "source": [
    "fruit = \"apple\"\n",
    "for ele in fruit:\n",
    "    print(ele)\n"
   ]
  },
  {
   "cell_type": "code",
   "execution_count": 17,
   "id": "e2ed2a88-e64d-4127-afed-0820b230e12a",
   "metadata": {},
   "outputs": [
    {
     "name": "stdout",
     "output_type": "stream",
     "text": [
      "b\n",
      "a\n",
      "n\n",
      "a\n",
      "n\n",
      "a\n"
     ]
    }
   ],
   "source": [
    "for ele in \"banana\":\n",
    "    print(ele)\n"
   ]
  },
  {
   "cell_type": "code",
   "execution_count": 18,
   "id": "aa6dd825-298f-46f7-a87b-549a40089b4e",
   "metadata": {},
   "outputs": [
    {
     "name": "stdout",
     "output_type": "stream",
     "text": [
      "ana\n"
     ]
    }
   ],
   "source": [
    "ele = \"banana\"\n",
    "print(ele[1:4]) #slicing\n"
   ]
  },
  {
   "cell_type": "code",
   "execution_count": 19,
   "id": "365c4b82-c076-4d1e-b037-431a1002aba0",
   "metadata": {},
   "outputs": [
    {
     "name": "stdout",
     "output_type": "stream",
     "text": [
      "hellothere\n",
      "hellotherehii\n"
     ]
    }
   ],
   "source": [
    "#string cancatenation\n",
    "a = \"hello\"\n",
    "b = a + \"there\"\n",
    "print(b)\n",
    "c = b + \"hii\"\n",
    "print(c)\n"
   ]
  },
  {
   "cell_type": "code",
   "execution_count": 20,
   "id": "f17aadec-c5a2-4518-a422-2cc0d7f023ff",
   "metadata": {},
   "outputs": [
    {
     "data": {
      "text/plain": [
       "True"
      ]
     },
     "execution_count": 20,
     "metadata": {},
     "output_type": "execute_result"
    }
   ],
   "source": [
    "#using in as a logical operator\n",
    "name = \"misisipi\"\n",
    "\"i\" in name\n"
   ]
  },
  {
   "cell_type": "code",
   "execution_count": 21,
   "id": "f8f63cce-d8bf-4ba4-9402-627788de64fa",
   "metadata": {},
   "outputs": [
    {
     "name": "stdout",
     "output_type": "stream",
     "text": [
      "<class 'str'>\n",
      "hello bob\n",
      "2\n",
      "Hii Bob\n",
      "Hello Bob\n",
      "Hello Bob\n",
      "Hello Bob\n"
     ]
    }
   ],
   "source": [
    "#string library\n",
    "greet = \"Hello Bob\"\n",
    "print(type(greet))\n",
    "print(greet.lower())\n",
    "print(greet.find(\"l\"))\n",
    "print(greet.replace(\"Hello\",\"Hii\"))\n",
    "print(greet.lstrip())\n",
    "print(greet.rstrip())\n",
    "print(greet.strip())\n"
   ]
  },
  {
   "cell_type": "code",
   "execution_count": 22,
   "id": "ba65d5e8-b996-4f33-9ce4-cd3c69c5ac2a",
   "metadata": {},
   "outputs": [
    {
     "name": "stdout",
     "output_type": "stream",
     "text": [
      "0.8475\n"
     ]
    }
   ],
   "source": [
    "#Write code using find() and string slicing (see section 6.10) to extract the number at the end of the line below. Convert the extracted value to a floating point number and print it out.\n",
    "text = \"X-DSPAM-Confidence:    0.8475\"\n",
    "pos = text.find(\":\")\n",
    "piece = text[pos+1:].strip() # remove any space\n",
    "x = float(piece)\n",
    "print(piece)\n"
   ]
  },
  {
   "cell_type": "code",
   "execution_count": 24,
   "id": "f75932ad-2e6b-4485-bc9f-cb2fc4fbfe2b",
   "metadata": {},
   "outputs": [
    {
     "name": "stdout",
     "output_type": "stream",
     "text": [
      "line count:  0\n"
     ]
    }
   ],
   "source": [
    "fhand = open(\"hello.txt\")\n",
    "count = 0\n",
    "for line in fhand:\n",
    "    count = count + 1\n",
    "print(\"line count: \",count)"
   ]
  },
  {
   "cell_type": "code",
   "execution_count": 26,
   "id": "dea8515f-5027-4649-99ce-e31bb06c977e",
   "metadata": {},
   "outputs": [
    {
     "name": "stdout",
     "output_type": "stream",
     "text": [
      "34\n",
      "hello hiii \n",
      "how are \n"
     ]
    }
   ],
   "source": [
    "fhand = open(\"hello.txt\")\n",
    "inp = fhand.read()\n",
    "print(len(inp))\n",
    "print(inp[:20])"
   ]
  },
  {
   "cell_type": "code",
   "execution_count": 29,
   "id": "7ce2fc33-9cd1-4cb1-958b-7c70b2b3c79d",
   "metadata": {},
   "outputs": [
    {
     "name": "stdout",
     "output_type": "stream",
     "text": [
      "how are you hiii\n",
      "\n"
     ]
    }
   ],
   "source": [
    "fhand = open(\"hello.txt\")\n",
    "for line in fhand:\n",
    "    if line.startswith(\"how\"):\n",
    "        print(line)"
   ]
  },
  {
   "cell_type": "code",
   "execution_count": 3,
   "id": "f465bc81-4022-4e73-8cea-b15237a51ef3",
   "metadata": {},
   "outputs": [
    {
     "name": "stdout",
     "output_type": "stream",
     "text": [
      "how are you hiii\n"
     ]
    }
   ],
   "source": [
    "fhand = open(\"hello.txt\")\n",
    "for line in fhand:\n",
    "    line = line.rstrip()\n",
    "    if line.startswith(\"how are\"):\n",
    "        print(line)"
   ]
  },
  {
   "cell_type": "code",
   "execution_count": 2,
   "id": "68fde9d9-bf05-4cc5-bb3b-b31108195d2f",
   "metadata": {},
   "outputs": [],
   "source": [
    " fhand = open(\"hello.txt\")\n",
    "for line in fhand:\n",
    "    line = line.rstrip()\n",
    "    if not line.startswith(\"hello\"):\n",
    "        continue\n",
    "        print(line)"
   ]
  },
  {
   "cell_type": "code",
   "execution_count": 1,
   "id": "4999ea58-e309-49e2-9032-3037b5fe4db3",
   "metadata": {},
   "outputs": [
    {
     "name": "stdin",
     "output_type": "stream",
     "text": [
      "enter file name:  hello.txt\n"
     ]
    },
    {
     "name": "stdout",
     "output_type": "stream",
     "text": [
      "there were 2 how lines in hello.txt\n"
     ]
    }
   ],
   "source": [
    "fname = input(\"enter file name: \")\n",
    "fhand = open(fname)\n",
    "count = 0\n",
    "for line in fhand:\n",
    "    if line.startswith(\"how\"):\n",
    "        count = count + 1\n",
    "print(\"there were\",count, \"how lines in\", fname)"
   ]
  },
  {
   "cell_type": "code",
   "execution_count": 2,
   "id": "fb498124-4834-4a8e-acfc-7f478cc0a446",
   "metadata": {},
   "outputs": [
    {
     "name": "stdin",
     "output_type": "stream",
     "text": [
      "enter file name:  hello.txt\n"
     ]
    },
    {
     "name": "stdout",
     "output_type": "stream",
     "text": [
      "there were 2 how lines in hello.txt\n"
     ]
    }
   ],
   "source": [
    "fname = input(\"enter file name: \")\n",
    "try:\n",
    "    fhand = open(fname)\n",
    "except:\n",
    "    print(\"file can't be open: \",fname)\n",
    "    quit()\n",
    "    \n",
    "count = 0\n",
    "for line in fhand:\n",
    "    if line.startswith(\"how\"):\n",
    "        count = count + 1\n",
    "print(\"there were\",count, \"how lines in\", fname)"
   ]
  },
  {
   "cell_type": "code",
   "execution_count": 6,
   "id": "49c54c54-5330-4374-9f54-0cc6a02767b1",
   "metadata": {},
   "outputs": [
    {
     "name": "stdin",
     "output_type": "stream",
     "text": [
      "Enter file name:  hello.txt\n"
     ]
    },
    {
     "name": "stdout",
     "output_type": "stream",
     "text": [
      "HELLO HIII\n",
      "\n",
      "HOW ARE YOU HIII\n",
      "\n",
      "HOW HIII\n"
     ]
    }
   ],
   "source": [
    "#Write a program that prompts for a file name, then opens that file and reads through the file, and print the contents of the file in upper case. Use the file words.txt to produce the output below.\n",
    "# Use words.txt as the file name\n",
    "fname = input(\"Enter file name: \")\n",
    "fhand = open(fname)\n",
    "for line in fhand:\n",
    "    line = line.rstrip()\n",
    "    print(line.upper())\n",
    "fhand.close()"
   ]
  },
  {
   "cell_type": "code",
   "execution_count": 117,
   "id": "c99e5fdd-7082-4f93-838b-9e2764fc94f8",
   "metadata": {},
   "outputs": [
    {
     "name": "stdin",
     "output_type": "stream",
     "text": [
      "Enter file name:  file.txt\n"
     ]
    },
    {
     "name": "stdout",
     "output_type": "stream",
     "text": [
      "Average spam confidence: 6.5\n"
     ]
    }
   ],
   "source": [
    "#Count these lines and extract the floating point values from each of the lines and compute the average of those values and produce an output as shown below. Do not use the sum() function or a variable named sum in your solution.\n",
    "#You can download the sample data at http://www.py4e.com/code3/mbox-short.txt when you are testing below enter mbox-short.txt as the file name.\n",
    "fname = input(\"Enter file name: \")\n",
    "fh = open(fname)\n",
    "count = 0\n",
    "value = 0\n",
    "for line in fh:\n",
    "    if line.startswith(\"X-DSPAM-Confidence:\"):\n",
    "        divide = line.split() #The split() function splits the line into a list of words.\n",
    "        x = float(divide[1]) #The second element (divide[1]) is converted from a string to a float.  \n",
    "        value = value + x\n",
    "        count = count + 1\n",
    "fh.close()\n",
    "if count>0:\n",
    "    average = float(value/count)\n",
    "print(\"Average spam confidence:\",average)\n"
   ]
  },
  {
   "cell_type": "code",
   "execution_count": 11,
   "id": "a8f25830-a915-484d-b7b5-2abc972d5c89",
   "metadata": {},
   "outputs": [
    {
     "name": "stdout",
     "output_type": "stream",
     "text": [
      "[5, 6]\n",
      "4\n"
     ]
    }
   ],
   "source": [
    " list = [\"akrati\",13,[5,6],\"dog\"]\n",
    "print(list[2])\n",
    "print(len(list))"
   ]
  },
  {
   "cell_type": "code",
   "execution_count": 14,
   "id": "3ae52751-69bf-41dd-a01d-7e712a59deb1",
   "metadata": {},
   "outputs": [
    {
     "name": "stdout",
     "output_type": "stream",
     "text": [
      "[5, 6]\n",
      "range(0, 4)\n"
     ]
    }
   ],
   "source": [
    "list = [\"akrati\",13,[5,6],\"dog\"]\n",
    "print(list[2])\n",
    "print(range(len(list)))"
   ]
  },
  {
   "cell_type": "code",
   "execution_count": 24,
   "id": "d60a9952-44fa-4ff5-b3ba-3dee71e71d06",
   "metadata": {},
   "outputs": [
    {
     "name": "stdout",
     "output_type": "stream",
     "text": [
      "[1, 2, 3, 'u', 7, 8, 9, 'v']\n",
      "[2, 3]\n",
      "[1, 2, 3, 'u', 'y']\n"
     ]
    },
    {
     "data": {
      "text/plain": [
       "False"
      ]
     },
     "execution_count": 24,
     "metadata": {},
     "output_type": "execute_result"
    }
   ],
   "source": [
    " #cnacatination of list \n",
    "#slicing\n",
    "#appending\n",
    "# is something in the list?\n",
    "a = [1,2,3,\"u\"]\n",
    "b = [7,8,9,\"v\"]\n",
    "c = a + b\n",
    "print(c)\n",
    "print(a[1:3])\n",
    "a.append(\"y\")\n",
    "print(a)\n",
    "8 in a"
   ]
  },
  {
   "cell_type": "code",
   "execution_count": 30,
   "id": "069af8e1-461b-47bc-b696-b7d0be9b63b4",
   "metadata": {},
   "outputs": [
    {
     "name": "stdin",
     "output_type": "stream",
     "text": [
      "enter a number:  9\n",
      "enter a number:  8\n",
      "enter a number:  7\n",
      "enter a number:  6\n",
      "enter a number:  5\n",
      "enter a number:  4\n",
      "enter a number:  done\n"
     ]
    },
    {
     "name": "stdout",
     "output_type": "stream",
     "text": [
      "average is:  6.5\n"
     ]
    }
   ],
   "source": [
    "#taking average\n",
    "numlist = []\n",
    "while True:\n",
    "    inp = input(\"enter a number: \")\n",
    "    if inp == \"done\":\n",
    "        break\n",
    "    value = float(inp)\n",
    "    numlist.append(value)\n",
    "\n",
    "average = sum(numlist)/len(numlist)\n",
    "print(\"average is: \",average)"
   ]
  },
  {
   "cell_type": "code",
   "execution_count": 36,
   "id": "d2c1fe50-b05a-4807-92a5-6092b1356781",
   "metadata": {},
   "outputs": [
    {
     "name": "stdout",
     "output_type": "stream",
     "text": [
      "['hello', 'how', 'are', 'you', 'sir']\n",
      "['i am', 'a student in', 'MIT']\n",
      "5\n"
     ]
    }
   ],
   "source": [
    "#splitiing\n",
    "sent = \"hello how are you sir\"\n",
    "letter = \"i am;a student in;MIT\"\n",
    "words = sent.split()\n",
    "word = letter.split(\";\")\n",
    "print(words)\n",
    "print(word)\n",
    "print(len(words))"
   ]
  },
  {
   "cell_type": "code",
   "execution_count": 43,
   "id": "a37c5ad9-4017-4d09-b45a-503408ae39be",
   "metadata": {},
   "outputs": [
    {
     "name": "stdin",
     "output_type": "stream",
     "text": [
      "enter your file name:  file.txt\n"
     ]
    },
    {
     "name": "stdout",
     "output_type": "stream",
     "text": [
      "['akratisingh1906@', 'gmail.', 'com']\n",
      "['akratisingh1906@']\n",
      "['gmail.']\n",
      "['com']\n"
     ]
    }
   ],
   "source": [
    "fname = input(\"enter your file name: \")\n",
    "fhand = open(fname)\n",
    "for line in fhand:\n",
    "    word = line.split()\n",
    "    print(word)\n",
    "\n",
    "for words in word:\n",
    "    piece = words.split()\n",
    "    print(piece)"
   ]
  },
  {
   "cell_type": "code",
   "execution_count": 51,
   "id": "892e8f5b-62ad-471b-9e07-6be6b243c7a5",
   "metadata": {},
   "outputs": [
    {
     "name": "stdin",
     "output_type": "stream",
     "text": [
      "Enter file name:  romeo.txt\n"
     ]
    },
    {
     "name": "stdout",
     "output_type": "stream",
     "text": [
      "[]\n"
     ]
    }
   ],
   "source": [
    "#Open the file romeo.txt and read it line by line. For each line, split the line into a list of words using the split() method. The program should build a list of words. For each word on each line check to see if the word is already in the list and if not append it to the list. When the program completes, sort and print the resulting words in python sort() order as shown in the desired output.\n",
    "#You can download the sample data at http://www.py4e.com/code3/romeo.txt\n",
    "fname = input(\"Enter file name: \")\n",
    "fh = open(fname)\n",
    "ele = []\n",
    "\n",
    "for line in fh: #read each iteration line by line\n",
    "    words = line.split() #split each line into data of word\n",
    "    for word in words:\n",
    "        if word not in ele:# to check if the word is alreay in the list , if not it will go to next step\n",
    "            ele.append(word) #store it in ele list\n",
    "    \n",
    "ele.sort()\n",
    "print(ele)"
   ]
  },
  {
   "cell_type": "code",
   "execution_count": 52,
   "id": "73b7828b-e8c4-49a9-9c63-a035b66abb39",
   "metadata": {},
   "outputs": [
    {
     "name": "stdin",
     "output_type": "stream",
     "text": [
      "Enter file name:  romeo.txt\n"
     ]
    },
    {
     "name": "stdout",
     "output_type": "stream",
     "text": [
      "There were 0 lines in the file with From as the first word\n"
     ]
    }
   ],
   "source": [
    "fname = input(\"Enter file name: \")\n",
    "fh = open(fname)\n",
    "count = 0 # initizlize the counting\n",
    "\n",
    "#if len(fname) < 1:\n",
    "    #fname = \"mbox-short.txt\"\n",
    "    \n",
    "for line in fh: # read line by line\n",
    "    if line.startswith(\"From \"): # chechking \n",
    "        word = line.split() # spliting\n",
    "        email = word[1] #the second word in the list\n",
    "        print(email)\n",
    "        count = count+1\n",
    "            \n",
    "    \n",
    "print(\"There were\", count, \"lines in the file with From as the first word\")\n"
   ]
  },
  {
   "cell_type": "code",
   "execution_count": 56,
   "id": "1aeec7e6-a52a-4488-a677-33b9c1e18440",
   "metadata": {},
   "outputs": [
    {
     "name": "stdout",
     "output_type": "stream",
     "text": [
      "{'hello': 2, 'hii': 1, 'hey': 2, 'namaste': 1, 'ha': 1}\n"
     ]
    }
   ],
   "source": [
    "counts = dict()\n",
    "names = [\"hello\",\"hii\",\"hello\",\"hey\",\"namaste\",\"hey\",\"ha\"]\n",
    "for name in names:\n",
    "    counts[name] = counts.get(name,0) + 1\n",
    "    #if name not in counts:\n",
    "        #counts[name] = 1\n",
    "    #else:\n",
    "        #counts[name] = counts[name] + 1\n",
    "print(counts)"
   ]
  },
  {
   "cell_type": "code",
   "execution_count": 57,
   "id": "ff92fcca-37c2-4939-a816-686c1eb0145f",
   "metadata": {},
   "outputs": [
    {
     "name": "stdout",
     "output_type": "stream",
     "text": [
      "enter a line of text: \n"
     ]
    },
    {
     "name": "stdin",
     "output_type": "stream",
     "text": [
      " the apple is the fruit but the mango which is also fruit like the apple so now we have apple and mango as fruit\n"
     ]
    },
    {
     "name": "stdout",
     "output_type": "stream",
     "text": [
      "words: ['the', 'apple', 'is', 'the', 'fruit', 'but', 'the', 'mango', 'which', 'is', 'also', 'fruit', 'like', 'the', 'apple', 'so', 'now', 'we', 'have', 'apple', 'and', 'mango', 'as', 'fruit']\n",
      "counting...\n",
      "counts {'the': 4, 'apple': 3, 'is': 2, 'fruit': 3, 'but': 1, 'mango': 2, 'which': 1, 'also': 1, 'like': 1, 'so': 1, 'now': 1, 'we': 1, 'have': 1, 'and': 1, 'as': 1}\n"
     ]
    }
   ],
   "source": [
    "#the general pattern to count the words in a line of text is to split the line into words, the loop through thw words and use a dictionary to track count of each word independently.\n",
    "counts = dict()\n",
    "print(\"enter a line of text: \")\n",
    "line = input(\"\") #read the user input\n",
    "\n",
    "words = line.split() #split in words \n",
    "\n",
    "print(\"words:\",words) #print the words\n",
    "print(\"counting...\")\n",
    "for word in words:\n",
    "    counts[word] = counts.get(word,0) + 1 # update the word count in the dict\n",
    "print(\"counts\", counts) #print the ocuurance"
   ]
  },
  {
   "cell_type": "code",
   "execution_count": 78,
   "id": "e47037d7-8859-4843-a40f-059f4d33942d",
   "metadata": {},
   "outputs": [
    {
     "name": "stdout",
     "output_type": "stream",
     "text": [
      "name ['akrati', 'manya']\n",
      "age [18, 19]\n",
      "class [11.7, 12, 7]\n",
      "number 4\n"
     ]
    }
   ],
   "source": [
    "#two iteration variables\n",
    "d = {\n",
    "    \"name\" : [\"akrati\",\"manya\"],\n",
    "    \"age\" : [18,19],\n",
    "    \"class\" : [11.7,12,7],\n",
    "    \"number\" : 4\n",
    "}\n",
    "for aaa,bbb in dict.items():\n",
    "    print(aaa,bbb)\n"
   ]
  },
  {
   "cell_type": "code",
   "execution_count": 79,
   "id": "2949da98-e056-4659-b0fb-5ab06e9846ea",
   "metadata": {},
   "outputs": [
    {
     "name": "stdout",
     "output_type": "stream",
     "text": [
      "-1\n"
     ]
    }
   ],
   "source": [
    "stuff = {} #stuff is initialized as an empty dict\n",
    "print(stuff.get('candy',-1)) #candy is key and -1 is value now as stuff is empty so it won't get printed only defalut value -1 will be printed"
   ]
  },
  {
   "cell_type": "code",
   "execution_count": null,
   "id": "92790adf-b313-432a-85c8-9bc8f88c58e8",
   "metadata": {},
   "outputs": [],
   "source": [
    "fname = input(\"Enter file name: \")\n",
    "fhand = open(fname)\n",
    "\n",
    "counts = dict()\n",
    "\n",
    "for line in fhand:\n",
    "    if line.startswith(\"From \"):\n",
    "        words = line.split()\n",
    "        email = words[1]\n",
    "        counts[email] = counts.get(email,0) + 1\n",
    "        \n",
    "            \n",
    "bigcount = None\n",
    "bigword = None\n",
    "for word, count in counts.items(): #word refers to key and count refers to value of key\n",
    "    if bigcount is None or count>bigcount:\n",
    "        bigword = word\n",
    "        bigcount = count\n",
    "       \n",
    "print(bigword,bigcount)"
   ]
  },
  {
   "cell_type": "code",
   "execution_count": 81,
   "id": "9337b794-510a-4aa2-8b2d-0472933460f6",
   "metadata": {},
   "outputs": [
    {
     "name": "stdout",
     "output_type": "stream",
     "text": [
      "hello 4\n",
      "hii 6\n",
      "dict_items([('hello', 4), ('hii', 6)])\n"
     ]
    }
   ],
   "source": [
    "d = {}\n",
    "d[\"hello\"] = 4\n",
    "d[\"hii\"] = 6\n",
    "for (k,v) in d.items():\n",
    "    print(k,v)\n",
    "tup = d.items()\n",
    "print(tup)"
   ]
  },
  {
   "cell_type": "code",
   "execution_count": 84,
   "id": "6e184366-b791-400d-be43-6450a6980fdb",
   "metadata": {},
   "outputs": [
    {
     "data": {
      "text/plain": [
       "False"
      ]
     },
     "execution_count": 84,
     "metadata": {},
     "output_type": "execute_result"
    }
   ],
   "source": [
    "#comparison in tupple \n",
    "(9,8,7)<(1,2,3)\n",
    "(\"akrati\")<(\"Akrati\")"
   ]
  },
  {
   "cell_type": "code",
   "execution_count": 98,
   "id": "c0b47935-8304-4581-9f59-40fc3ca13456",
   "metadata": {},
   "outputs": [
    {
     "name": "stdout",
     "output_type": "stream",
     "text": [
      "a 10\n",
      "c 27\n",
      "r 1\n"
     ]
    }
   ],
   "source": [
    "d = {\n",
    "    \"a\" : 10,\n",
    "    \"c\" : 27,\n",
    "    \"r\" : 1\n",
    "}\n",
    "for k,v in sorted(d.items()):\n",
    "    print(k,v)"
   ]
  },
  {
   "cell_type": "code",
   "execution_count": 105,
   "id": "aaf23001-a3fa-413f-ab3c-e94b7f77812b",
   "metadata": {},
   "outputs": [
    {
     "name": "stdout",
     "output_type": "stream",
     "text": [
      "[(10, 'a'), (6, 'b'), (22, 'c')]\n",
      "[(22, 'c'), (10, 'a'), (6, 'b')]\n"
     ]
    }
   ],
   "source": [
    "c= {\n",
    "    \"a\" : 10,\n",
    "    \"b\" : 6,\n",
    "    \"c\" : 22\n",
    "}\n",
    "temp = []\n",
    "for k,v in c.items(): #k is key and v is value of key\n",
    "    temp.append((v,k))\n",
    "print(temp)\n",
    "temp = sorted(temp, reverse=True) # reverse=True sort the list in decending order\n",
    "print(temp)"
   ]
  },
  {
   "cell_type": "code",
   "execution_count": 114,
   "id": "a310dc97-9f06-4a29-b2e0-cd55b36b8cd7",
   "metadata": {},
   "outputs": [
    {
     "name": "stdin",
     "output_type": "stream",
     "text": [
      "enter file name:  file.txt\n"
     ]
    },
    {
     "name": "stdout",
     "output_type": "stream",
     "text": [
      "gmail. 1\n",
      "com 1\n",
      "akratisingh1906@ 1\n"
     ]
    }
   ],
   "source": [
    "fname = input(\"enter file name: \")\n",
    "fhand = open(fname)\n",
    "counts = {}\n",
    "for line in fhand:\n",
    "    word = line.split()\n",
    "    for word in line.split():\n",
    "        counts[word] = counts.get(word, 0) + 1\n",
    "\n",
    "lst = []\n",
    "for k,v in counts.items():\n",
    "    newtup = (v,k)\n",
    "    lst.append(newtup)\n",
    "\n",
    "lst = sorted(lst, reverse=True)\n",
    "\n",
    "for v,k in lst[:10]:\n",
    "    print(k,v)"
   ]
  },
  {
   "cell_type": "code",
   "execution_count": 116,
   "id": "ed517e5a-e5a5-482b-b7b9-056ea292a31a",
   "metadata": {},
   "outputs": [
    {
     "name": "stdin",
     "output_type": "stream",
     "text": [
      "Enter file: file.txt\n"
     ]
    }
   ],
   "source": [
    "fname = input(\"Enter file:\")\n",
    "fhand = open(fname)\n",
    "counts = {}\n",
    "for line in fhand: # to go through each line\n",
    "    if line.startswith(\"From \"): # to check if the line starts from \"From \"\n",
    "        ele = line.split() #split that line in parts\n",
    "        time = ele[5] # we need the last part(the fifth part) of the list\n",
    "        hours = time.split(\":\")[0] # divide the last part at each colon and giving us the starting value\n",
    "        counts[hours] = counts.get(hours,0) + 1 #update the count in the dict\n",
    "\n",
    "for hours in sorted(counts):\n",
    "    print(hours, counts[hours])"
   ]
  },
  {
   "cell_type": "code",
   "execution_count": null,
   "id": "eadacb93-b214-457d-a8f2-2ee72c527676",
   "metadata": {},
   "outputs": [],
   "source": []
  }
 ],
 "metadata": {
  "kernelspec": {
   "display_name": "Python 3 (ipykernel)",
   "language": "python",
   "name": "python3"
  },
  "language_info": {
   "codemirror_mode": {
    "name": "ipython",
    "version": 3
   },
   "file_extension": ".py",
   "mimetype": "text/x-python",
   "name": "python",
   "nbconvert_exporter": "python",
   "pygments_lexer": "ipython3",
   "version": "3.13.2"
  }
 },
 "nbformat": 4,
 "nbformat_minor": 5
}
